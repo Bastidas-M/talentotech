{
  "cells": [
    {
      "cell_type": "markdown",
      "source": [
        "## Firmas digitales\n",
        "\n",
        "Las firmas digitales permiten a través de la criptografía, verificar que un documento o un mensaje no ha sido alterado durante su transmisión. También permiten confirmar la identidad de la persona o entidad que crea un documento digital.\n",
        "\n",
        "En esta actividad crearemos documentos y los firmaremos digitalmente para poner en práctica la fundamentación teórica adquirida en el curso de ciberseguridad"
      ],
      "metadata": {
        "collapsed": false,
        "id": "JCjpQHYjN8o1"
      }
    },
    {
      "cell_type": "code",
      "execution_count": 1,
      "outputs": [],
      "source": [
        "import os\n",
        "import hashlib\n",
        "from cryptography.hazmat.primitives import hashes\n",
        "from cryptography.hazmat.primitives.asymmetric import rsa, padding\n",
        "from cryptography.hazmat.primitives import serialization\n",
        "from cryptography.fernet import Fernet\n",
        "import base64\n",
        "import json\n",
        "from datetime import datetime"
      ],
      "metadata": {
        "ExecuteTime": {
          "end_time": "2025-04-10T15:58:01.257930600Z",
          "start_time": "2025-04-10T15:58:01.203758400Z"
        },
        "id": "YqXmiPulN8o4"
      }
    },
    {
      "cell_type": "markdown",
      "source": [
        "### Claves simétricas para la identidad\n",
        "Para poder firmar digitalmente documentos, necesitamos crear un par de claves (privada y pública).\n",
        "Recuerda siempre que la clave privada debe estar protegida y no se debe compartir en ningún caso. si esta clave se filtrase\n",
        "otra persona se puede hacer pasar por nosotros y no habría forma de detectar digitalmente que no somos el remitente"
      ],
      "metadata": {
        "collapsed": false,
        "id": "m0pOKi_7N8o5"
      }
    },
    {
      "cell_type": "code",
      "execution_count": 2,
      "outputs": [],
      "source": [
        "# utilizaremos las mismas funciones del laboratorio de claves asimétricas\n",
        "\n",
        "def generar_claves_asimetricas():\n",
        "    \"\"\"Genera y guarda un par de claves asimétricas en archivos.\"\"\"\n",
        "    clave_privada = rsa.generate_private_key(\n",
        "        public_exponent=65537,\n",
        "        key_size=2048\n",
        "    )\n",
        "    clave_publica = clave_privada.public_key()\n",
        "\n",
        "    # Guardar clave privada\n",
        "    with open(\"clave_privada.pem\", \"wb\") as clave_privada_archivo:\n",
        "        clave_privada_archivo.write(\n",
        "            clave_privada.private_bytes(\n",
        "                encoding=serialization.Encoding.PEM,\n",
        "                format=serialization.PrivateFormat.TraditionalOpenSSL,\n",
        "                encryption_algorithm=serialization.NoEncryption()\n",
        "            )\n",
        "        )\n",
        "\n",
        "    # Guardar clave pública\n",
        "    with open(\"clave_publica.pem\", \"wb\") as clave_publica_archivo:\n",
        "        clave_publica_archivo.write(\n",
        "            clave_publica.public_bytes(\n",
        "                encoding=serialization.Encoding.PEM,\n",
        "                format=serialization.PublicFormat.SubjectPublicKeyInfo\n",
        "            )\n",
        "        )\n",
        "\n",
        "    print(\"Claves asimétricas generadas y guardadas en 'clave_privada.pem' y 'clave_publica.pem'.\")\n",
        "\n",
        "# Cargar clave privada\n",
        "def cargar_clave_privada():\n",
        "    \"\"\"Carga la clave privada desde un archivo.\"\"\"\n",
        "    with open(\"clave_privada.pem\", \"rb\") as clave_privada_archivo:\n",
        "        return serialization.load_pem_private_key(\n",
        "            clave_privada_archivo.read(),\n",
        "            password=None\n",
        "        )\n",
        "\n",
        "# Cargar clave pública\n",
        "def cargar_clave_publica():\n",
        "    \"\"\"Carga la clave pública desde un archivo.\"\"\"\n",
        "    with open(\"clave_publica.pem\", \"rb\") as clave_publica_archivo:\n",
        "        return serialization.load_pem_public_key(\n",
        "            clave_publica_archivo.read()\n",
        "        )\n"
      ],
      "metadata": {
        "ExecuteTime": {
          "end_time": "2025-04-10T16:05:04.789587100Z",
          "start_time": "2025-04-10T16:05:04.754235300Z"
        },
        "id": "5JRkLhruN8o6"
      }
    },
    {
      "cell_type": "code",
      "execution_count": 3,
      "outputs": [
        {
          "output_type": "stream",
          "name": "stdout",
          "text": [
            "Claves asimétricas generadas y guardadas en 'clave_privada.pem' y 'clave_publica.pem'.\n"
          ]
        }
      ],
      "source": [
        "# generando unas claves para la actividad:\n",
        "\n",
        "generar_claves_asimetricas()\n"
      ],
      "metadata": {
        "ExecuteTime": {
          "end_time": "2025-04-10T16:10:20.861226400Z",
          "start_time": "2025-04-10T16:10:20.759511100Z"
        },
        "colab": {
          "base_uri": "https://localhost:8080/"
        },
        "id": "uq-3ijmaN8o7",
        "outputId": "f2e890c9-49d7-454c-d00f-e891bd240d4e"
      }
    },
    {
      "cell_type": "markdown",
      "source": [
        "### Documentos y firmas digitales\n",
        "\n",
        "Con la clave privada y pública podemos realizar la firma digital del documento. Como ejercicio nuestros documentos serán archivos en formato JSON que contendrán ciertos datos. Cada estudiante debe utilizar la función de  ´´´crear_documento´´´ para generar un documento propio y luego firmarlo.\n",
        "\n",
        "La firma digital funciona de forma similar a cuando se cifran mensajes con claves asimétricas, en este caso el proceso consta de dos pasos. El primero, calcular el resultado de la función hash de un documento y el segundo, cifrar el hash con una clave privada para validar la identidad del emisor del documento y el contenido del documento.\n",
        "\n",
        "Cuando firmarmos el documento, lo que hacemos es cargar el JSON como un string en memoria y luego lo codificamos como bits. A estos bits se les calcula una huella digital con una función de hash (sha256 en este caso). La huella es una cadena de longitud fija que representa de manera única el contenido del documento. Si algún bit cambia, la firma cambia totalmente.\n",
        "\n",
        "Luego, en la función de firmar documento, la firma se codifica con la clave privada, con esto garantizamos que solo quien posee la clave (el remitente real) es el emisor del documento.\n",
        "\n",
        "Finalmente, la función de firmar documento guarda la firma, que es, el hash del documento cifrado con la clave privada.\n",
        "\n",
        "\n"
      ],
      "metadata": {
        "collapsed": false,
        "id": "IWSuggn_N8o8"
      }
    },
    {
      "cell_type": "code",
      "execution_count": 4,
      "outputs": [],
      "source": [
        "def crear_documento(autor, titulo, contenido, nombre_archivo=\"documento.json\"):\n",
        "    \"\"\"\n",
        "    Crea un documento en formato JSON para ser firmado.\n",
        "\n",
        "    Args:\n",
        "        autor (str): Nombre del autor del documento\n",
        "        titulo (str): Título del documento\n",
        "        contenido (str): Contenido del documento\n",
        "        nombre_archivo (str): Nombre del archivo donde se guardará el documento\n",
        "\n",
        "    Returns:\n",
        "        dict: El documento creado\n",
        "    \"\"\"\n",
        "    documento = {\n",
        "        \"autor\": autor,\n",
        "        \"titulo\": titulo,\n",
        "        \"contenido\": contenido,\n",
        "        \"fecha_creacion\": datetime.now().isoformat()\n",
        "    }\n",
        "\n",
        "    with open(nombre_archivo, \"w\") as f:\n",
        "        json.dump(documento, f, indent=4)\n",
        "\n",
        "    print(f\"Documento creado y guardado en: {nombre_archivo}\")\n",
        "    return documento\n"
      ],
      "metadata": {
        "ExecuteTime": {
          "end_time": "2025-04-10T16:38:17.716057500Z",
          "start_time": "2025-04-10T16:38:17.700038Z"
        },
        "id": "7ZU4BgPhN8o8"
      }
    },
    {
      "cell_type": "code",
      "execution_count": 5,
      "outputs": [
        {
          "output_type": "stream",
          "name": "stdout",
          "text": [
            "Documento creado y guardado en: documento.json\n"
          ]
        },
        {
          "output_type": "execute_result",
          "data": {
            "text/plain": [
              "{'autor': 'Autor de ejemplo (aca va tu nombre)',\n",
              " 'titulo': 'Declaracion firmadaEn este documento oficial listamos las vulnerabilidades de seguridad encontradas en nuestros sistemasno debe compartirse y debe verificarse su origen antes de proceder con los pasos:paso 1: realizar revisionespaso 2: monitorear sistemaspaso 3: Actualizar componentespaso 4: Revisar registros',\n",
              " 'contenido': 'declaracion.json',\n",
              " 'fecha_creacion': '2025-06-05T01:05:24.026944'}"
            ]
          },
          "metadata": {},
          "execution_count": 5
        }
      ],
      "source": [
        "crear_documento(\"Autor de ejemplo (aca va tu nombre)\",\n",
        "                \"Declaracion firmada\"\n",
        "                \"En este documento oficial listamos las vulnerabilidades de seguridad encontradas en nuestros sistemas\"\n",
        "                \"no debe compartirse y debe verificarse su origen antes de proceder con los pasos:\"\n",
        "                \"paso 1: realizar revisiones\"\n",
        "                \"paso 2: monitorear sistemas\"\n",
        "                \"paso 3: Actualizar componentes\"\n",
        "                \"paso 4: Revisar registros\",\n",
        "                \"declaracion.json\"\n",
        "                )\n",
        "\n",
        "\n",
        "#NOTA:  revisar que el documento exista en el disco antes de proceder con la actividad!\n"
      ],
      "metadata": {
        "ExecuteTime": {
          "end_time": "2025-04-10T16:38:18.004439800Z",
          "start_time": "2025-04-10T16:38:17.979188Z"
        },
        "colab": {
          "base_uri": "https://localhost:8080/"
        },
        "id": "VoJAOCSuN8o9",
        "outputId": "7c927334-681e-49d7-8bce-5916570e5722"
      }
    },
    {
      "cell_type": "code",
      "execution_count": 6,
      "outputs": [],
      "source": [
        "# función para firmar digitalmente un documento\n",
        "def firmar_documento(ruta_documento, ruta_firma=\"firma_digital.bin\"):\n",
        "    \"\"\"\n",
        "    Firma digitalmente un ruta_documento utilizando una clave privada RSA.\n",
        "\n",
        "    Args:\n",
        "        ruta_clave_privada (str): Ruta al archivo de clave privada PEM\n",
        "        documento (dict): Documento a firmar\n",
        "        ruta_firma (str): Ruta donde se guardará la firma\n",
        "\n",
        "    Returns:\n",
        "        bytes: La firma digital\n",
        "    \"\"\"\n",
        "    # Cargamos la clave privada\n",
        "    private_key = cargar_clave_privada()\n",
        "\n",
        "    # Convertimos el documento a una cadena JSON y la codificamos en bytes\n",
        "    documento = open(ruta_documento)\n",
        "    mensaje = json.load(documento)\n",
        "    mensaje = json.dumps(mensaje).encode()\n",
        "    documento.close()\n",
        "\n",
        "    # Firmamos el mensaje\n",
        "    firma = private_key.sign(\n",
        "        mensaje,\n",
        "        padding.PSS(\n",
        "            mgf=padding.MGF1(hashes.SHA256()),\n",
        "            salt_length=padding.PSS.MAX_LENGTH\n",
        "        ),\n",
        "        hashes.SHA256()\n",
        "    )\n",
        "\n",
        "    # Guardamos la firma en un archivo\n",
        "    with open(ruta_firma, \"wb\") as f:\n",
        "        f.write(firma)\n",
        "\n",
        "    print(f\"Documento firmado. Firma guardada en: {ruta_firma}\")\n",
        "\n",
        "    # También guardamos la firma en formato base64 para visualización\n",
        "    firma_base64 = base64.b64encode(firma).decode('utf-8')\n",
        "    with open(f\"{ruta_firma}.b64\", \"w\") as f:\n",
        "        f.write(firma_base64)\n",
        "\n",
        "    print(f\"Firma en formato base64 guardada en: {ruta_firma}.b64\")\n",
        "\n",
        "    return firma\n"
      ],
      "metadata": {
        "ExecuteTime": {
          "end_time": "2025-04-10T17:26:40.132978200Z",
          "start_time": "2025-04-10T17:26:40.112177800Z"
        },
        "id": "u91L9zt3N8o-"
      }
    },
    {
      "cell_type": "code",
      "execution_count": 7,
      "outputs": [
        {
          "output_type": "stream",
          "name": "stdout",
          "text": [
            "Documento firmado. Firma guardada en: firma_digital.bin\n",
            "Firma en formato base64 guardada en: firma_digital.bin.b64\n"
          ]
        }
      ],
      "source": [
        "firma = firmar_documento(\"documento.json\")"
      ],
      "metadata": {
        "ExecuteTime": {
          "end_time": "2025-04-10T17:26:48.954977400Z",
          "start_time": "2025-04-10T17:26:48.911754Z"
        },
        "colab": {
          "base_uri": "https://localhost:8080/"
        },
        "id": "y81aT5yrN8o_",
        "outputId": "1bc1de9e-8f72-4bb2-b4df-1b943e724605"
      }
    },
    {
      "cell_type": "markdown",
      "source": [
        "### Verificación de las firmas digitales\n",
        "\n",
        "Para verificar que un documento es auténtico y su contenido es el mismo con el que el emisor lo publicó, necesitamos contar con tres cosas que son:\n",
        "    - El documento a validar\n",
        "    - La clave pública del emisor del documento\n",
        "    - el archivo con la firma digital\n",
        "\n",
        "La verificación recalcula el hash del documento recibido, usa la clave pública para descifrar la firma digital y compara el hash calculado con el recibido (firma). Si ambos coinciden, se puede entender que el documento no ha sido alterado y que la persona que lo generó es quien dice ser."
      ],
      "metadata": {
        "collapsed": false,
        "id": "cPGA7o7PN8pA"
      }
    },
    {
      "cell_type": "code",
      "execution_count": 8,
      "outputs": [],
      "source": [
        "def verificar_firma(ruta_documento, ruta_firma):\n",
        "    \"\"\"\n",
        "    Verifica la firma digital de un documento utilizando una clave pública RSA.\n",
        "\n",
        "    Args:\n",
        "        ruta_clave_publica (str): Ruta al archivo de clave pública PEM\n",
        "        documento (dict): Documento cuya firma se va a verificar\n",
        "        ruta_firma (str): Ruta al archivo de firma\n",
        "\n",
        "    Returns:\n",
        "        bool: True si la firma es válida, False en caso contrario\n",
        "    \"\"\"\n",
        "    # Cargamos la clave pública\n",
        "    public_key = cargar_clave_publica()\n",
        "\n",
        "    # Cargamos la firma\n",
        "    with open(ruta_firma, \"rb\") as f:\n",
        "        firma = f.read()\n",
        "\n",
        "    # Convertimos el documento a una cadena JSON y la codificamos en bytes\n",
        "    # Convertimos el documento a una cadena JSON y la codificamos en bytes\n",
        "    documento = open(ruta_documento)\n",
        "    mensaje = json.load(documento)\n",
        "    mensaje = json.dumps(mensaje).encode()\n",
        "    documento.close()\n",
        "\n",
        "\n",
        "    try:\n",
        "        # Verificamos la firma\n",
        "        public_key.verify(\n",
        "            firma,\n",
        "            mensaje,\n",
        "            padding.PSS(\n",
        "                mgf=padding.MGF1(hashes.SHA256()),\n",
        "                salt_length=padding.PSS.MAX_LENGTH\n",
        "            ),\n",
        "            hashes.SHA256()\n",
        "        )\n",
        "        print(\"¡La firma es válida! El documento es auténtico y no ha sido modificado.\")\n",
        "        return True\n",
        "    except Exception as e:\n",
        "        print(\"¡La firma NO es válida! El documento puede haber sido alterado o la firma no corresponde.\")\n",
        "        print(f\"Error: {e}\")\n",
        "        return False\n"
      ],
      "metadata": {
        "ExecuteTime": {
          "end_time": "2025-04-10T17:28:31.479428500Z",
          "start_time": "2025-04-10T17:28:31.470428Z"
        },
        "id": "K8LImfEfN8pB"
      }
    },
    {
      "cell_type": "code",
      "execution_count": 9,
      "outputs": [
        {
          "output_type": "stream",
          "name": "stdout",
          "text": [
            "¡La firma es válida! El documento es auténtico y no ha sido modificado.\n"
          ]
        }
      ],
      "source": [
        "verificacion = verificar_firma(\"documento.json\", \"firma_digital.bin\")\n",
        "\n"
      ],
      "metadata": {
        "ExecuteTime": {
          "end_time": "2025-04-10T17:28:32.147074800Z",
          "start_time": "2025-04-10T17:28:32.140795600Z"
        },
        "colab": {
          "base_uri": "https://localhost:8080/"
        },
        "id": "Kp37vGtoN8pB",
        "outputId": "e24097e0-9f69-4069-e709-a6718a9b1b63"
      }
    },
    {
      "cell_type": "code",
      "source": [
        "# Simular modificación del documento original para invalidar la firma\n",
        "def modificar_documento(ruta_documento):\n",
        "    \"\"\"\n",
        "    Modifica el contenido del documento para simular una alteración maliciosa.\n",
        "    \"\"\"\n",
        "    with open(ruta_documento, \"r\") as f:\n",
        "        documento = json.load(f)\n",
        "\n",
        "    # Cambiar el contenido de forma mínima (pero suficiente para invalidar la firma)\n",
        "    documento[\"contenido\"] += \" [MODIFICADO]\"\n",
        "\n",
        "    with open(ruta_documento, \"w\") as f:\n",
        "        json.dump(documento, f, indent=4)\n",
        "\n",
        "    print(\"Documento modificado para prueba negativa.\")\n",
        "\n",
        "modificar_documento(\"documento.json\")\n",
        "verificacion_negativa = verificar_firma(\"documento.json\", \"firma_digital.bin\")\n"
      ],
      "metadata": {
        "colab": {
          "base_uri": "https://localhost:8080/"
        },
        "id": "NNQYdifBpqXf",
        "outputId": "a3bec208-be26-4c72-c73f-5ec10cb06daf"
      },
      "execution_count": 10,
      "outputs": [
        {
          "output_type": "stream",
          "name": "stdout",
          "text": [
            "Documento modificado para prueba negativa.\n",
            "¡La firma NO es válida! El documento puede haber sido alterado o la firma no corresponde.\n",
            "Error: \n"
          ]
        }
      ]
    },
    {
      "cell_type": "code",
      "source": [
        "# Simular una modificación de la firma (firma corrupta)\n",
        "def modificar_firma(ruta_firma):\n",
        "    \"\"\"\n",
        "    Modifica la firma digital para que sea inválida.\n",
        "    \"\"\"\n",
        "    with open(ruta_firma, \"rb\") as f:\n",
        "        firma = bytearray(f.read())\n",
        "\n",
        "    # Alterar un byte de la firma (por ejemplo, invertir el primer byte)\n",
        "    firma[0] = (firma[0] + 1) % 256\n",
        "\n",
        "    with open(\"firma_digital_modificada.bin\", \"wb\") as f:\n",
        "        f.write(firma)\n",
        "\n",
        "    print(\"Firma modificada para prueba negativa.\")\n",
        "\n",
        "# Ejecutar prueba negativa con firma alterada\n",
        "modificar_firma(\"firma_digital.bin\")\n",
        "verificacion_firma_alterada = verificar_firma(\"documento.json\", \"firma_digital_modificada.bin\")\n"
      ],
      "metadata": {
        "colab": {
          "base_uri": "https://localhost:8080/"
        },
        "id": "kgSnjO3tuYfG",
        "outputId": "31fe1437-7c17-47ef-b116-63b6627f83c6"
      },
      "execution_count": 11,
      "outputs": [
        {
          "output_type": "stream",
          "name": "stdout",
          "text": [
            "Firma modificada para prueba negativa.\n",
            "¡La firma NO es válida! El documento puede haber sido alterado o la firma no corresponde.\n",
            "Error: \n"
          ]
        }
      ]
    }
  ],
  "metadata": {
    "kernelspec": {
      "display_name": "Python 3",
      "language": "python",
      "name": "python3"
    },
    "language_info": {
      "codemirror_mode": {
        "name": "ipython",
        "version": 2
      },
      "file_extension": ".py",
      "mimetype": "text/x-python",
      "name": "python",
      "nbconvert_exporter": "python",
      "pygments_lexer": "ipython2",
      "version": "2.7.6"
    },
    "colab": {
      "provenance": []
    }
  },
  "nbformat": 4,
  "nbformat_minor": 0
}