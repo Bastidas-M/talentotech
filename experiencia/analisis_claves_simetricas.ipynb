{
  "cells": [
    {
      "cell_type": "markdown",
      "source": [
        "## Actividad: Uso de claves simétricas\n",
        "\n",
        "En esta actividad se comparte un mensaje cifrado por medio de una clave simétrica. Si bien en este cuaderno se hace la codificación y la decodificación, es necesario que los estudiantes compartan los mensajes y la clave simétrica para que entiendan los riesgos que existen si la clave simétrica se filtra.\n",
        "\n",
        "Se recomienda que trabajen en grupos que compartirán los mensajes y las claves simétricas."
      ],
      "metadata": {
        "collapsed": false,
        "id": "Te6Bi2QEN5rY"
      }
    },
    {
      "cell_type": "code",
      "execution_count": null,
      "outputs": [],
      "source": [
        "# bibliotecas\n",
        "\n",
        "from cryptography.fernet import Fernet\n",
        "import os"
      ],
      "metadata": {
        "ExecuteTime": {
          "end_time": "2025-01-20T05:40:17.476519600Z",
          "start_time": "2025-01-20T05:40:17.466396300Z"
        },
        "id": "dzhtzIOlN5rZ"
      }
    },
    {
      "cell_type": "markdown",
      "source": [
        "### 1. Función para generar una clave simétrica\n",
        "Se requiere suministrar la ruta (carpeta) en donde quedará guardada la clave"
      ],
      "metadata": {
        "collapsed": false,
        "id": "jfJC0eLBN5ra"
      }
    },
    {
      "cell_type": "code",
      "execution_count": null,
      "outputs": [],
      "source": [
        "def generar_clave(carpeta):\n",
        "    \"\"\"\n",
        "    Función para generar una clave simétrica en un archivo\n",
        "    \"\"\"\n",
        "    clave = Fernet.generate_key()\n",
        "    ruta = os.path.join(carpeta, \"clave_simetrica.key\")\n",
        "    with open(ruta, \"wb\") as clave_archivo:\n",
        "        clave_archivo.write(clave)\n",
        "    print(f\"Clave simétrica generada y guardada en {ruta}\")\n",
        "    return ruta # entregar la ruta completa después de generarla\n",
        "\n",
        "\n"
      ],
      "metadata": {
        "ExecuteTime": {
          "end_time": "2025-01-20T05:40:17.911797400Z",
          "start_time": "2025-01-20T05:40:17.904227300Z"
        },
        "id": "tGVqXRrrN5ra"
      }
    },
    {
      "cell_type": "markdown",
      "source": [
        "### 2. Función para cifrar un mensaje\n",
        "Conociendo la ruta de la llave simétrica, abrirla y cifrar el mensaje deseado"
      ],
      "metadata": {
        "collapsed": false,
        "id": "cs8LOL1YN5rb"
      }
    },
    {
      "cell_type": "code",
      "execution_count": null,
      "outputs": [],
      "source": [
        "# Cargar la clave desde el archivo\n",
        "def cargar_clave(ruta):\n",
        "    \"\"\"Carga la clave simétrica desde un archivo.\"\"\"\n",
        "    with open(ruta, \"rb\") as clave_archivo:\n",
        "        return clave_archivo.read()\n",
        "\n",
        "# Cifrar un mensaje\n",
        "def cifrar_mensaje(mensaje, clave):\n",
        "    \"\"\"Cifra un mensaje utilizando la clave simétrica.\"\"\"\n",
        "    fernet = Fernet(clave)\n",
        "    mensaje_cifrado = fernet.encrypt(mensaje.encode())\n",
        "    return mensaje_cifrado"
      ],
      "metadata": {
        "ExecuteTime": {
          "end_time": "2025-01-20T05:40:18.266183800Z",
          "start_time": "2025-01-20T05:40:18.249585800Z"
        },
        "id": "t83bboy6N5rb"
      }
    },
    {
      "cell_type": "markdown",
      "source": [
        "### 3. Función para descifrar un mesaje\n",
        "Para leer el mensaje, se requiere el mensaje codificado y la clave simétrica, con esta función decodificamos el mensaje. Se puede probar la decodificación con un mensaje cifrado con otra clave para validar el funcionamiento."
      ],
      "metadata": {
        "collapsed": false,
        "id": "cgL70-MyN5rb"
      }
    },
    {
      "cell_type": "code",
      "execution_count": null,
      "outputs": [],
      "source": [
        "# Descifrar un mensaje\n",
        "def descifrar_mensaje(mensaje_cifrado, clave):\n",
        "    \"\"\"Descifra un mensaje cifrado utilizando la clave simétrica.\"\"\"\n",
        "    fernet = Fernet(clave)\n",
        "    mensaje_descifrado = fernet.decrypt(mensaje_cifrado).decode()\n",
        "    return mensaje_descifrado\n"
      ],
      "metadata": {
        "ExecuteTime": {
          "end_time": "2025-01-20T05:40:18.590614Z",
          "start_time": "2025-01-20T05:40:18.574573800Z"
        },
        "id": "pf0oJj1aN5rc"
      }
    },
    {
      "cell_type": "markdown",
      "source": [
        "### 4. Con las funciones listas se puede realizar la actividad.\n",
        "- Crear la clave\n",
        "- Codificar un mensaje\n",
        "- Decodificarlo\n",
        "- Intercambiar la clave y validar\n",
        "- Finalmente reflexionar con los estudiantes cómo se pueden comunicar 2 personas remotamente con una clave simétrica ¿Como la pueden compartir de forma segura?"
      ],
      "metadata": {
        "collapsed": false,
        "id": "s2lG3HhTN5rc"
      }
    },
    {
      "cell_type": "code",
      "execution_count": null,
      "outputs": [
        {
          "output_type": "stream",
          "name": "stdout",
          "text": [
            "Clave simétrica generada y guardada en ./clave_simetrica.key\n",
            "Clave cargada: xjhlwIaQ7i187beeroP3v7aZm4slXbVMoSP743cWnFQ=\n"
          ]
        }
      ],
      "source": [
        "ruta_clave = generar_clave(\"./\") # generar la clave en la carpeta de trabajo\n",
        "clave = cargar_clave(ruta_clave)\n",
        "print(f\"Clave cargada: {clave.decode()}\")\n",
        "\n",
        "# ahora cifrar un mensaje:\n",
        "mensaje = \"Había una vez una joven lechera que caminaba con un cántaro de leche para vender en el mercado del pueblo. Mientras caminaba pensaba en todas las cosas que haría con el dinero de la venta: —Cuando me paguen —se dijo—, compraré de inmediato unas gallinas, estas gallinas pondrán muchísimos huevos y los venderé en el mercado. Con el dinero de los huevos me compraré un vestido y zapatos muy elegantes. Luego, iré a la feria y como luciré tan hermosa, todos los chicos querrán acercarse a hablar conmigo. Por andar distraída con sus pensamientos, la lechera tropezó con una piedra y el cántaro se rompió derramando toda la leche. Con el cántaro destrozado se fueron las gallinas y los huevos; también el vestido y los zapatos.\"\n",
        "\n",
        "\n"
      ],
      "metadata": {
        "ExecuteTime": {
          "end_time": "2025-01-20T05:40:19.432247300Z",
          "start_time": "2025-01-20T05:40:19.419153600Z"
        },
        "colab": {
          "base_uri": "https://localhost:8080/"
        },
        "id": "9Z1ecww9N5rc",
        "outputId": "bf0a0d1b-f628-4bee-a7db-2dd2cc97d630"
      }
    },
    {
      "cell_type": "code",
      "execution_count": null,
      "outputs": [
        {
          "output_type": "stream",
          "name": "stdout",
          "text": [
            "Mensaje cifrado: gAAAAABoP46IcH4yATsduRwlYhef50v1CdVVIZQ00LBlaM_b_POBisx7jCp9J7K5IzuMZriqQLaiG1B9sNb0DBYDRCO16LV6luFjyu97H3gPnCyaDyKEbBfxv4sbVtmiiwXstCA-PhOLWJkxsQVD8gbiTKaV4lGj0btlfeiheFYvMML2spHCNlVwk1y7Sld_ZNMsHhAIO5aoR4AEIg-Ql4suffPfgk4-ay7ZswSa3rONezKuCgyf14nNp58aC0zTn1d1FRLF8ejxdGQzAQJxjZvMICgIspVOFt_Buzt6zwjxPBSk389PJwYoV_waW00jczCZvACD49h4J2zLW0UGIAqutkZSBpnV7r0BNw7z6mlGJD2lQAvh16t6nJpzOhuZgjbMyqOF7ZYTpEQLpSROptaSa9a00zZzNxUA9hVLw1r9BDVWQeUF3v4VGQ4bXXVI5_iAPWbMibCcyqVUVBPo28y-LDzuqfKAbHfxh5_zYAahmbG5VgU50WrFWuOU-P5eGc10CIOvjSwd1DqMucXHLEkwqVROyn6PEV1LuqVQjEALyBxAg-TtOnfJ-mRG5J8sZd3KToFoNrpUKOpqhm-Bnpo6rw5Jlu1H-Q294Mgyt2FnmgdI1oQwagccTuvkxFtVC--G3DhOLG2A22Vpk6MH4kRScs4gA6AHhuQqvU7JSDwpR2pSqqUEighkXD0d6WpU6HNytzO45dmo3v6agi04VVpUwFwON3ZBzpLtRqxVJ_Bkr1Wzn39c97YJjKMXjsZQgWcoHomLytCyQmyht7oIgVjT_5KgyzCEXQ3KeXojNddSEwxBP4lufVpEZvMolg9yFIsOjPiNwryEz34PAuYUEeBqqBkXNj9n0ewScOwehLFGKEOoqX7k32h_k-JQ_LngqWygBjlqAsIUvevb6cht21MtqiHYVLW8ND7fKwbaaviWvrtObbqbLxRwDg9ZbG3Tn3DMutF2jk1GW98aXocDj8kg_k-UDbFFHtk0VvL0lbIxDY9zLAPqkLE2vdbpNU2F-ZkB_35vpn0AAfY5kFWClMVUbXwjX0xPFcq-AJjPGT2Co_DazqwTU2g=\n"
          ]
        }
      ],
      "source": [
        "# cifrar y guardar el mensaje para compartirlo\n",
        "mensaje_cifrado = cifrar_mensaje(mensaje, clave)\n",
        "print(f\"Mensaje cifrado: {mensaje_cifrado.decode()}\")\n",
        "with open(\"mensaje.txt\", \"wb\") as file:\n",
        "    file.write(mensaje_cifrado)"
      ],
      "metadata": {
        "ExecuteTime": {
          "end_time": "2025-01-20T05:41:49.076893900Z",
          "start_time": "2025-01-20T05:41:49.062289200Z"
        },
        "colab": {
          "base_uri": "https://localhost:8080/"
        },
        "id": "XSQy7TysN5rd",
        "outputId": "ad5c8592-9e27-4673-e6df-61e50d836866"
      }
    },
    {
      "cell_type": "code",
      "execution_count": null,
      "outputs": [
        {
          "name": "stdout",
          "output_type": "stream",
          "text": [
            "b'gAAAAABnjeIdOa8OGsRoJWK-9-CY95akXv9QM-Appm88c7eHz3noJ_oblpt_zp6KuRmPUOnyuga89OmV8ayklHcln8OyIF18maBFnZ9i0F-2UO08n_LmSjyKiLb3QGKanZVzDKjNPNptNRi0WcHEslkotNc7odq-xB1lLa6pYB-peccC1mJ7zUdidDBbinVZX5h_zRv0l8jNSV-a_OWcNXpDgkeUIXUxDD5SLCQttKbJej3xTei4xbIs80Dra6dmV7fyyxv45-XP2BGq1rlDHRERc9NeJibUZ99yIHTNnK1R7HVLlvYbTSxUwU2doSQhyya4TPfGXffizEetIbgM-_-uvXg6hu9v-2862O5BFEM-EI42Kh02Kth_gA9MYpQrI-oTPma_oEkDqZHi_4_uVXWI7Agqd18FBkjtTiJybffhT2sVK3UJSDsrZcTH9qv6xXm0OMZ6ekAyFUYWzLC--cGvqJaZvvSH6VVk8b_CHJFnS1tQnVfHeu1gI_V-OyEhaE5bxQqSOjLFFQq_pRFZAIzKw01jQBOzbNJl8WDWuzbos9zy54oR8wM2Fb9GsSYR7bjO3FFoT8C23ZIftLbWBaz3MWn6xUcaz6RsQjBD8Q7YSPv_Ti0JeL61l-NvfyJZz27ikYyZNvP_4yV2ZxFmPS6wXnL86AoZYiZMpvkhvroaxQWxgpyKmmR-Tr0xtzlOYIJLeA8AK2vmclPlDyUcBDNdye6zThFSLQG8lwfG8Id2c6Fa6SA2Rl3Wvms9D1sJRm1S7NKNq4I1gghyq4_nS50HnPmqQSJFjjrcINIivXubC0tKQAskDfzA0eLMvBKChjux3ICmAMpHJiS3hYTPnLVin-5lKTtznoQWFnZa863h76PDhxGtNVjqSQsmOyqAe2WSBJd6KCDbluuJP4six9FJX7p4JoGgos8HJKFzFVHwrbzchnkEvp5R2oluOntnaFumKP3pn2gW6sdYSyoL9H-W55WMMphDIEDEcgCZ-Nhpf32_oSdcuuTm0eMI8KSFnIjWnDISXBDcorwElwLZjFJ39QeKLSb1RxKYzOZANj74j-ZcEBM8XeQ='\n",
            "Mensaje descifrado: Había una vez una joven lechera que caminaba con un cántaro de leche para vender en el mercado del pueblo. Mientras caminaba pensaba en todas las cosas que haría con el dinero de la venta: —Cuando me paguen —se dijo—, compraré de inmediato unas gallinas, estas gallinas pondrán muchísimos huevos y los venderé en el mercado. Con el dinero de los huevos me compraré un vestido y zapatos muy elegantes. Luego, iré a la feria y como luciré tan hermosa, todos los chicos querrán acercarse a hablar conmigo. Por andar distraída con sus pensamientos, la lechera tropezó con una piedra y el cántaro se rompió derramando toda la leche. Con el cántaro destrozado se fueron las gallinas y los huevos; también el vestido y los zapatos.\n"
          ]
        }
      ],
      "source": [
        "# abrir el mensaje y descifrarlo\n",
        "with open(\"mensaje.txt\", \"rb\") as file:\n",
        "    mensaje_leido = file.read()\n",
        "print(mensaje_leido)\n",
        "\n",
        "mensaje_descifrado = descifrar_mensaje(mensaje_cifrado, clave)\n",
        "print(f\"Mensaje descifrado: {mensaje_descifrado}\")"
      ],
      "metadata": {
        "ExecuteTime": {
          "end_time": "2025-01-20T05:43:16.500136600Z",
          "start_time": "2025-01-20T05:43:16.492089800Z"
        },
        "id": "tBdt14z6N5rd",
        "outputId": "dc09b280-df75-4d1e-c9dc-69f25f64af9a"
      }
    },
    {
      "cell_type": "markdown",
      "source": [
        "**Finalmente reflexionar con los estudiantes cómo se pueden comunicar 2 personas remotamente con una clave simétrica ¿Como la pueden compartir de forma segura?**"
      ],
      "metadata": {
        "id": "8AAZ43YZRdw8"
      }
    },
    {
      "cell_type": "markdown",
      "source": [
        "*   Se podría tener un servidor dedicado al almacenamiento y generación de estas claves con acceso autorizado.\n",
        "*   Mediante una VPN\n",
        "*   Medinate cifrado asimétrico como RSA"
      ],
      "metadata": {
        "id": "F9IUVzb1RcOY"
      }
    },
    {
      "cell_type": "code",
      "source": [],
      "metadata": {
        "id": "-LDlRAnGSkU9"
      },
      "execution_count": null,
      "outputs": []
    }
  ],
  "metadata": {
    "kernelspec": {
      "display_name": "Python 3",
      "language": "python",
      "name": "python3"
    },
    "language_info": {
      "codemirror_mode": {
        "name": "ipython",
        "version": 2
      },
      "file_extension": ".py",
      "mimetype": "text/x-python",
      "name": "python",
      "nbconvert_exporter": "python",
      "pygments_lexer": "ipython2",
      "version": "2.7.6"
    },
    "colab": {
      "provenance": []
    }
  },
  "nbformat": 4,
  "nbformat_minor": 0
}