{
  "cells": [
    {
      "cell_type": "markdown",
      "source": [
        "## Actividad: Uso de claves asimétricas\n",
        "\n",
        "En esta actividad se comparte un mensaje cifrado por medio de una clave asimétrica. Si bien en este cuaderno se hace la codificación y la decodificación, es necesario que los estudiantes compartan los mensajes y la clave pública para que entiendan la dinámica de funcionamiento del par de claves privada y pública\n",
        "\n",
        "Se recomienda que trabajen en grupos que compartirán los mensajes y las claves públicas\n"
      ],
      "metadata": {
        "collapsed": false,
        "id": "Kan1cbnUM3Sg"
      }
    },
    {
      "cell_type": "code",
      "execution_count": 11,
      "outputs": [],
      "source": [
        "# Importar las bibliotecas necesarias\n",
        "from cryptography.hazmat.primitives.asymmetric import rsa, padding\n",
        "from cryptography.hazmat.primitives import serialization, hashes\n"
      ],
      "metadata": {
        "ExecuteTime": {
          "end_time": "2025-01-20T05:47:41.307224500Z",
          "start_time": "2025-01-20T05:47:41.271986200Z"
        },
        "id": "cMI1_sOBM3Si"
      }
    },
    {
      "cell_type": "code",
      "execution_count": 12,
      "outputs": [],
      "source": [
        "# Generar un par de claves (privada y pública)\n",
        "def generar_claves_asimetricas():\n",
        "    \"\"\"Genera y guarda un par de claves asimétricas en archivos.\"\"\"\n",
        "    clave_privada = rsa.generate_private_key(\n",
        "        public_exponent=65537,\n",
        "        key_size=2048\n",
        "    )\n",
        "    clave_publica = clave_privada.public_key()\n",
        "\n",
        "    # Guardar clave privada\n",
        "    with open(\"clave_privada.pem\", \"wb\") as clave_privada_archivo:\n",
        "        clave_privada_archivo.write(\n",
        "            clave_privada.private_bytes(\n",
        "                encoding=serialization.Encoding.PEM,\n",
        "                format=serialization.PrivateFormat.TraditionalOpenSSL,\n",
        "                encryption_algorithm=serialization.NoEncryption()\n",
        "            )\n",
        "        )\n",
        "\n",
        "    # Guardar clave pública\n",
        "    with open(\"clave_publica.pem\", \"wb\") as clave_publica_archivo:\n",
        "        clave_publica_archivo.write(\n",
        "            clave_publica.public_bytes(\n",
        "                encoding=serialization.Encoding.PEM,\n",
        "                format=serialization.PublicFormat.SubjectPublicKeyInfo\n",
        "            )\n",
        "        )\n",
        "\n",
        "    print(\"Claves asimétricas generadas y guardadas en 'clave_privada.pem' y 'clave_publica.pem'.\")\n",
        "\n",
        "# Cargar clave privada\n",
        "def cargar_clave_privada():\n",
        "    \"\"\"Carga la clave privada desde un archivo.\"\"\"\n",
        "    with open(\"clave_privada.pem\", \"rb\") as clave_privada_archivo:\n",
        "        return serialization.load_pem_private_key(\n",
        "            clave_privada_archivo.read(),\n",
        "            password=None\n",
        "        )\n",
        "\n",
        "# Cargar clave pública\n",
        "def cargar_clave_publica():\n",
        "    \"\"\"Carga la clave pública desde un archivo.\"\"\"\n",
        "    with open(\"clave_publica.pem\", \"rb\") as clave_publica_archivo:\n",
        "        return serialization.load_pem_public_key(\n",
        "            clave_publica_archivo.read()\n",
        "        )\n",
        "\n",
        "# Cifrar un mensaje asimétrico\n",
        "def cifrar_mensaje_asimetrico(mensaje, clave_publica):\n",
        "    \"\"\"Cifra un mensaje utilizando la clave pública.\"\"\"\n",
        "    mensaje_cifrado = clave_publica.encrypt(\n",
        "        mensaje.encode(),\n",
        "        padding.OAEP(\n",
        "            mgf=padding.MGF1(algorithm=hashes.SHA256()),\n",
        "            algorithm=hashes.SHA256(),\n",
        "            label=None\n",
        "        )\n",
        "    )\n",
        "    return mensaje_cifrado\n",
        "\n",
        "# Descifrar un mensaje asimétrico\n",
        "def descifrar_mensaje_asimetrico(mensaje_cifrado, clave_privada):\n",
        "    \"\"\"Descifra un mensaje cifrado utilizando la clave privada.\"\"\"\n",
        "    mensaje_descifrado = clave_privada.decrypt(\n",
        "        mensaje_cifrado,\n",
        "        padding.OAEP(\n",
        "            mgf=padding.MGF1(algorithm=hashes.SHA256()),\n",
        "            algorithm=hashes.SHA256(),\n",
        "            label=None\n",
        "        )\n",
        "    )\n",
        "    return mensaje_descifrado.decode()\n",
        "\n",
        "# Validar la autenticidad del remitente\n",
        "def validar_autenticidad(mensaje, firma, clave_publica):\n",
        "    \"\"\"Valida que el mensaje proviene del remitente verificando la firma con la clave pública.\"\"\"\n",
        "    try:\n",
        "        clave_publica.verify(\n",
        "            firma,\n",
        "            mensaje.encode(),\n",
        "            padding.PSS(\n",
        "                mgf=padding.MGF1(hashes.SHA256()),\n",
        "                salt_length=padding.PSS.MAX_LENGTH\n",
        "            ),\n",
        "            hashes.SHA256()\n",
        "        )\n",
        "        return True\n",
        "    except Exception:\n",
        "        return False\n",
        "\n",
        "# Firmar un mensaje\n",
        "def firmar_mensaje(mensaje, clave_privada):\n",
        "    \"\"\"Genera una firma para el mensaje utilizando la clave privada.\"\"\"\n",
        "    firma = clave_privada.sign(\n",
        "        mensaje.encode(),\n",
        "        padding.PSS(\n",
        "            mgf=padding.MGF1(hashes.SHA256()),\n",
        "            salt_length=padding.PSS.MAX_LENGTH\n",
        "        ),\n",
        "        hashes.SHA256()\n",
        "    )\n",
        "    return firma\n"
      ],
      "metadata": {
        "ExecuteTime": {
          "end_time": "2025-01-20T05:51:48.626191400Z",
          "start_time": "2025-01-20T05:51:48.617658800Z"
        },
        "id": "8dzvljpaM3Sj"
      }
    },
    {
      "cell_type": "markdown",
      "source": [
        "mensaje = \"Una máquina simple es un dispositivo mecánico que cambia la dirección o la magnitud de una fuerza\"\n",
        "\n",
        "generar_claves_asimetricas()\n",
        "clave_publica = cargar_clave_publica()\n",
        "clave_privada = cargar_clave_privada()\n",
        "mensaje_cifrado_asimetrico = cifrar_mensaje_asimetrico(mensaje, clave_publica)\n",
        "print(f\"Mensaje cifrado (asimétrico): {mensaje_cifrado_asimetrico}\")\n",
        "mensaje_descifrado_asimetrico = descifrar_mensaje_asimetrico(mensaje_cifrado_asimetrico, clave_privada)\n",
        "print(f\"Mensaje descifrado (asimétrico): {mensaje_descifrado_asimetrico}\")\n"
      ],
      "metadata": {
        "collapsed": false,
        "id": "1BSRpOHqM3Sk"
      }
    },
    {
      "cell_type": "code",
      "execution_count": 13,
      "outputs": [
        {
          "output_type": "stream",
          "name": "stdout",
          "text": [
            "\n",
            "[Validación de Autenticidad]\n",
            "Claves asimétricas generadas y guardadas en 'clave_privada.pem' y 'clave_publica.pem'.\n",
            "Firma generada: b'S\\xc6\\xc1\\xa4\\xbdU\\x90\\xbeU[\\x19bk\\x04U\\xbb\\x95U1]\\xdc`\\xdf\\x8b\\nOH\\xdd\\xd1\\xd2\\xf9\\xbb-u\\xb7\\xa3xt\\x8f\\xe5A\\xf4b\\xd2C#\\xe1f\\xd9\\xe9bw\\x05Gx~,\\x82\\x98\\xd0\\xbb=\\x14K{?\\x98\\xcb\\x92W\\xc4\\xd0rd\\xeb\\x93\\xecR\\x90\\xe9\\xe1\\xbc\\xb4\\x0f\\x9f\\xf1o5\\xc5>\\xdf\\xac\\x96\\x86\\xcd\\x0bp\\x00V\\x89\\xf4\\xc6\\x12\\x94\\xa4\\x93\\x17\\x84\\xe0\\xda\\x88-\\xbf6:(\\xe2\\xbd\\xce:v\\x01\\xd7\\xc7\\xcd\\x0c\\':0b\\xbe\\xf0\\xec1\\x12\\x86\\x8eI7\\xf7\\x12\\x98<>$\\xb35N\\xda%`)\\xb6\\x19\\x80\\x1eM\\xea\\xb18\\x13\\xc5\\xfeZ\\x93\\xcd\\xdb\\xde\\xd9\\x87\\x99\\x96\\xca\\xdf\\xad\\xd5FZ\\xadk\\xfe%V%\\xf8\"\\x8d\\xabg^c\\x88\"JZ\\xe7!e\\xac\\xa0Eg\\x92\\xf9P\\xe0\\x8b\\xfc\\xe9\\xb0\\xaa(\\xd8\\x0f\\xaa|\\xb6\\xfc\\x03\\\\qB\\xc3\\x9d\\x06#j\\x15\\xd1~\\xec\\xd5a]\\xba\\xefV\\x97d\\xc5A\"\\xe8\\x9f9\\x0fj\\x1f\\xa4\\xdcP\\xdd\\x12\\'\\x8b\\xf2'\n",
            "¿El mensaje es auténtico? Sí\n"
          ]
        }
      ],
      "source": [
        "\n",
        "# Parte 3: Validación de Autenticidad firmando con la clave privada\n",
        "print(\"\\n[Validación de Autenticidad]\")\n",
        "mensaje = \"Este es un mensaje de prueba\"\n",
        "generar_claves_asimetricas()\n",
        "# Cargar claves desde los archivos\n",
        "clave_privada = cargar_clave_privada()\n",
        "clave_publica = cargar_clave_publica()\n",
        "\n",
        "firma = firmar_mensaje(mensaje, clave_privada)\n",
        "print(f\"Firma generada: {firma}\")\n",
        "es_valido = validar_autenticidad(mensaje, firma, clave_publica)\n",
        "print(f\"¿El mensaje es auténtico? {'Sí' if es_valido else 'No'}\")\n"
      ],
      "metadata": {
        "ExecuteTime": {
          "end_time": "2025-01-20T05:54:18.711989900Z",
          "start_time": "2025-01-20T05:54:18.706430600Z"
        },
        "colab": {
          "base_uri": "https://localhost:8080/"
        },
        "id": "I3ObdF6SM3Sl",
        "outputId": "3c803ddf-8f14-4d7a-837c-b2c1b7cc9806"
      }
    },
    {
      "cell_type": "code",
      "source": [
        "# Modificación del mensaje original\n",
        "print(\"\\n1. Prueba con mensaje modificado:\")\n",
        "mensaje_original = \"Este es un mensaje de prueba\"\n",
        "mensaje_modificado = \"Este es un mensaje de prueba MODIFICADO\"\n",
        "\n",
        "# Usar la firma del mensaje original con el mensaje modificado\n",
        "firma_original = firmar_mensaje(mensaje_original, clave_privada)\n",
        "es_valido_modificado = validar_autenticidad(mensaje_modificado, firma_original, clave_publica)\n",
        "print(f\"Mensaje original: '{mensaje_original}'\")\n",
        "print(f\"Mensaje modificado: '{mensaje_modificado}'\")\n",
        "print(f\"¿El mensaje modificado es auténtico con la firma original? {'Sí' if es_valido_modificado else 'No'}\")\n"
      ],
      "metadata": {
        "colab": {
          "base_uri": "https://localhost:8080/"
        },
        "id": "iQbokBYqqo0w",
        "outputId": "2805b01c-af09-4721-fcdc-840b37185db3"
      },
      "execution_count": 14,
      "outputs": [
        {
          "output_type": "stream",
          "name": "stdout",
          "text": [
            "\n",
            "1. Prueba con mensaje modificado:\n",
            "Mensaje original: 'Este es un mensaje de prueba'\n",
            "Mensaje modificado: 'Este es un mensaje de prueba MODIFICADO'\n",
            "¿El mensaje modificado es auténtico con la firma original? No\n"
          ]
        }
      ]
    },
    {
      "cell_type": "markdown",
      "source": [
        "### Actividad de reflexión\n",
        "Discutir con los estudiantes:\n",
        "- ¿Qué ventajas tiene el cifrado asimétrico?\n",
        " * Permite un intercambio más seguro ya que mantiene secreta la clave privada de un sólo lado.   \n",
        "- ¿Qué posibles fallas de seguridad pueden existir?\n",
        " *  Si alguien obtiene la clave privada puede obtener acceso a nuestra información y también suplantarnos.\n",
        "- ¿Qué sucede si yo pierdo mi clave privada? ¿Qué sucede si la comparto?\n",
        " * Pierdo acceso a la información cifrada y un tercero puede suplantarme, esta clave es única he intrasferible.\n",
        "- Intente codificar la fábula de la lechera u otro texto largo ¿Por qué da un error? ¿Cómo se puede arreglar este error para compartir mensajes cifrados?\n",
        "* Fue necesario agregar las lineas de creación de clave\n",
        "- Comparta mensajes largos cifrados entre los estudiantes y que ellos validen la autencididad del remitente"
      ],
      "metadata": {
        "collapsed": false,
        "id": "jr0b5nKyM3Sl"
      }
    }
  ],
  "metadata": {
    "kernelspec": {
      "display_name": "Python 3",
      "language": "python",
      "name": "python3"
    },
    "language_info": {
      "codemirror_mode": {
        "name": "ipython",
        "version": 2
      },
      "file_extension": ".py",
      "mimetype": "text/x-python",
      "name": "python",
      "nbconvert_exporter": "python",
      "pygments_lexer": "ipython2",
      "version": "2.7.6"
    },
    "colab": {
      "provenance": []
    }
  },
  "nbformat": 4,
  "nbformat_minor": 0
}