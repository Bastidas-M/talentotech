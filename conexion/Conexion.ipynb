{
  "nbformat": 4,
  "nbformat_minor": 0,
  "metadata": {
    "colab": {
      "provenance": []
    },
    "kernelspec": {
      "name": "python3",
      "display_name": "Python 3"
    },
    "language_info": {
      "name": "python"
    }
  },
  "cells": [
    {
      "cell_type": "code",
      "source": [
        "# Instalar bibliotecas si es necesario\n",
        "#!pip install networkx matplotlib numpy\n",
        "\n",
        "import networkx as nx\n",
        "import matplotlib.pyplot as plt\n",
        "import numpy as np\n",
        "\n",
        "# Datos proporcionados\n",
        "conexiones = [\n",
        "    ('v1', 'v2', 'a1'),\n",
        "    ('v2', 'v1', 'a2'),\n",
        "    ('v2', 'v3', 'a3'),\n",
        "    ('v3', 'v4', 'a4'),\n",
        "    ('v4', 'v1', 'a5')\n",
        "]\n",
        "\n",
        "matriz_adyacencia = [\n",
        "    [0, 1, 0, 0],  # v1\n",
        "    [1, 0, 1, 0],  # v2\n",
        "    [0, 0, 0, 1],  # v3\n",
        "    [1, 0, 0, 0]   # v4\n",
        "]\n",
        "\n",
        "nodos = ['v1', 'v2', 'v3', 'v4']\n",
        "\n",
        "# 1. Crear grafo a partir de la lista de conexiones\n",
        "def crear_grafo_desde_conexiones(conexiones, nodos):\n",
        "    G = nx.DiGraph()\n",
        "    G.add_nodes_from(nodos)\n",
        "    for origen, destino, etiqueta in conexiones:\n",
        "        G.add_edge(origen, destino, label=etiqueta)\n",
        "    return G\n",
        "\n",
        "# 2. Crear matriz de adyacencia desde el grafo\n",
        "def crear_matriz_adyacencia(G, nodos):\n",
        "    matriz = np.zeros((len(nodos), len(nodos)), dtype=int)\n",
        "    nodo_indices = {nodo: i for i, nodo in enumerate(nodos)}\n",
        "\n",
        "    for origen, destino in G.edges():\n",
        "        i = nodo_indices[origen]\n",
        "        j = nodo_indices[destino]\n",
        "        matriz[i][j] = 1\n",
        "    return matriz\n",
        "\n",
        "# 3. Crear grafo desde matriz de adyacencia\n",
        "def crear_grafo_desde_matriz(matriz, nodos):\n",
        "    G = nx.DiGraph()\n",
        "    G.add_nodes_from(nodos)\n",
        "\n",
        "    for i, origen in enumerate(nodos):\n",
        "        for j, destino in enumerate(nodos):\n",
        "            if matriz[i][j] == 1:\n",
        "                # Buscar la etiqueta correspondiente\n",
        "                etiqueta = f\"a{len(G.edges)+1}\"\n",
        "                G.add_edge(origen, destino, label=etiqueta)\n",
        "    return G\n",
        "\n",
        "# 4. Visualización del grafo\n",
        "def dibujar_grafo(G):\n",
        "    plt.figure(figsize=(8, 6))\n",
        "    pos = nx.spring_layout(G)\n",
        "\n",
        "    nx.draw_networkx_nodes(G, pos, node_size=700, node_color='lightblue')\n",
        "    nx.draw_networkx_edges(G, pos, edgelist=G.edges(), edge_color='gray',\n",
        "                         arrowstyle='->', arrowsize=20)\n",
        "    nx.draw_networkx_labels(G, pos, font_size=12)\n",
        "\n",
        "    edge_labels = nx.get_edge_attributes(G, 'label')\n",
        "    nx.draw_networkx_edge_labels(G, pos, edge_labels=edge_labels, font_color='red')\n",
        "\n",
        "    plt.title(\"Representación del Grafo\")\n",
        "    plt.axis('off')\n",
        "    plt.show()\n",
        "\n",
        "# Ejecución y demostración\n",
        "print(\"=== Creando grafo desde lista de conexiones ===\")\n",
        "G_desde_conexiones = crear_grafo_desde_conexiones(conexiones, nodos)\n",
        "dibujar_grafo(G_desde_conexiones)\n",
        "\n",
        "print(\"\\nMatriz de adyacencia generada desde el grafo:\")\n",
        "matriz_generada = crear_matriz_adyacencia(G_desde_conexiones, nodos)\n",
        "print(np.array(matriz_generada))\n",
        "print(np.array(conexiones))"
      ],
      "metadata": {
        "colab": {
          "base_uri": "https://localhost:8080/",
          "height": 729
        },
        "id": "2YAembW4UDw0",
        "outputId": "501b4fb0-982f-49e9-b1d5-d4575749e1d4"
      },
      "execution_count": null,
      "outputs": [
        {
          "output_type": "stream",
          "name": "stdout",
          "text": [
            "=== Creando grafo desde lista de conexiones ===\n"
          ]
        },
        {
          "output_type": "display_data",
          "data": {
            "text/plain": [
              "<Figure size 800x600 with 1 Axes>"
            ],
            "image/png": "[encoded data removed]"
          },
          "metadata": {}
        },
        {
          "output_type": "stream",
          "name": "stdout",
          "text": [
            "\n",
            "Matriz de adyacencia generada desde el grafo:\n",
            "[[0 1 0 0]\n",
            " [1 0 1 0]\n",
            " [0 0 0 1]\n",
            " [1 0 0 0]]\n",
            "[['v1' 'v2' 'a1']\n",
            " ['v2' 'v1' 'a2']\n",
            " ['v2' 'v3' 'a3']\n",
            " ['v3' 'v4' 'a4']\n",
            " ['v4' 'v1' 'a5']]\n"
          ]
        }
      ]
    },
    {
      "cell_type": "code",
      "source": [
        "# Instalar bibliotecas si es necesario\n",
        "#!pip install networkx matplotlib numpy pandas\n",
        "\n",
        "import networkx as nx\n",
        "import matplotlib.pyplot as plt\n",
        "import numpy as np\n",
        "import pandas as pd\n",
        "\n",
        "# Datos proporcionados\n",
        "conexiones = [\n",
        "    ('v1', 'v2', 'a1'),\n",
        "    ('v2', 'v1', 'a2'),\n",
        "    ('v2', 'v3', 'a3'),\n",
        "    ('v3', 'v4', 'a4'),\n",
        "    ('v4', 'v1', 'a5')\n",
        "]\n",
        "\n",
        "matriz_adyacencia = [\n",
        "    [0, 1, 0, 0],  # v1\n",
        "    [1, 0, 1, 0],  # v2\n",
        "    [0, 0, 0, 1],  # v3\n",
        "    [1, 0, 0, 0]   # v4\n",
        "]\n",
        "\n",
        "nodos = ['v1', 'v2', 'v3', 'v4']\n",
        "\n",
        "# 1. Crear grafo a partir de la lista de conexiones\n",
        "def crear_grafo_desde_conexiones(conexiones, nodos):\n",
        "    G = nx.DiGraph()\n",
        "    G.add_nodes_from(nodos)\n",
        "    for origen, destino, etiqueta in conexiones:\n",
        "        G.add_edge(origen, destino, label=etiqueta)\n",
        "    return G\n",
        "\n",
        "# 2. Crear matriz de adyacencia desde el grafo (como DataFrame)\n",
        "def crear_matriz_adyacencia(G, nodos):\n",
        "    matriz = np.zeros((len(nodos), len(nodos)), dtype=int)\n",
        "    nodo_indices = {nodo: i for i, nodo in enumerate(nodos)}\n",
        "\n",
        "    for origen, destino in G.edges():\n",
        "        i = nodo_indices[origen]\n",
        "        j = nodo_indices[destino]\n",
        "        matriz[i][j] = 1\n",
        "\n",
        "    # Convertir a DataFrame\n",
        "    df_matriz = pd.DataFrame(matriz, index=nodos, columns=nodos)\n",
        "    return df_matriz\n",
        "\n",
        "# 3. Crear grafo desde matriz de adyacencia\n",
        "def crear_grafo_desde_matriz(df_matriz, nodos):\n",
        "    G = nx.DiGraph()\n",
        "    G.add_nodes_from(nodos)\n",
        "\n",
        "    for i, origen in enumerate(nodos):\n",
        "        for j, destino in enumerate(nodos):\n",
        "            if df_matriz.iloc[i, j] == 1:\n",
        "                # Buscar la etiqueta correspondiente\n",
        "                etiqueta = f\"a{len(G.edges)+1}\"\n",
        "                G.add_edge(origen, destino, label=etiqueta)\n",
        "    return G\n",
        "\n",
        "# 4. Visualización del grafo\n",
        "def dibujar_grafo(G):\n",
        "    plt.figure(figsize=(8, 6))\n",
        "    pos = nx.spring_layout(G)\n",
        "\n",
        "    nx.draw_networkx_nodes(G, pos, node_size=700, node_color='lightblue')\n",
        "    nx.draw_networkx_edges(G, pos, edgelist=G.edges(), edge_color='gray',\n",
        "                         arrowstyle='->', arrowsize=20)\n",
        "    nx.draw_networkx_labels(G, pos, font_size=12)\n",
        "\n",
        "    edge_labels = nx.get_edge_attributes(G, 'label')\n",
        "    nx.draw_networkx_edge_labels(G, pos, edge_labels=edge_labels, font_color='red')\n",
        "\n",
        "    plt.title(\"Representación del Grafo\")\n",
        "    plt.axis('off')\n",
        "    plt.show()\n",
        "\n",
        "# Ejecución y demostración\n",
        "print(\"=== Creando grafo desde lista de conexiones ===\")\n",
        "G_desde_conexiones = crear_grafo_desde_conexiones(conexiones, nodos)\n",
        "dibujar_grafo(G_desde_conexiones)\n",
        "\n",
        "print(\"\\nMatriz de adyacencia generada desde el grafo:\")\n",
        "matriz_generada = crear_matriz_adyacencia(G_desde_conexiones, nodos)\n",
        "print(matriz_generada)"
      ],
      "metadata": {
        "colab": {
          "base_uri": "https://localhost:8080/",
          "height": 660
        },
        "id": "qGdjW53MZ00C",
        "outputId": "89bd1d05-0fa4-4b38-978d-870aa2048fcd"
      },
      "execution_count": null,
      "outputs": [
        {
          "output_type": "stream",
          "name": "stdout",
          "text": [
            "=== Creando grafo desde lista de conexiones ===\n"
          ]
        },
        {
          "output_type": "display_data",
          "data": {
            "text/plain": [
              "<Figure size 800x600 with 1 Axes>"
            ],
            "image/png": "[encoded data removed]"
          },
          "metadata": {}
        },
        {
          "output_type": "stream",
          "name": "stdout",
          "text": [
            "\n",
            "Matriz de adyacencia generada desde el grafo:\n",
            "    v1  v2  v3  v4\n",
            "v1   0   1   0   0\n",
            "v2   1   0   1   0\n",
            "v3   0   0   0   1\n",
            "v4   1   0   0   0\n"
          ]
        }
      ]
    },
    {
      "cell_type": "code",
      "source": [
        "def crear_matriz_alcanzabilidad(df_matriz_adyacencia):\n",
        "    \"\"\"\n",
        "    Crea la matriz de alcanzabilidad usando el algoritmo de Floyd-Warshall\n",
        "    \"\"\"\n",
        "    n = len(df_matriz_adyacencia)\n",
        "    # Crear copia de la matriz de adyacencia\n",
        "    alcanzabilidad = df_matriz_adyacencia.copy()\n",
        "\n",
        "    # Algoritmo de Floyd-Warshall para alcanzabilidad\n",
        "    for k in range(n):\n",
        "        for i in range(n):\n",
        "            for j in range(n):\n",
        "                if alcanzabilidad.iloc[i, k] == 1 and alcanzabilidad.iloc[k, j] == 1:\n",
        "                    alcanzabilidad.iloc[i, j] = 1\n",
        "\n",
        "    return alcanzabilidad\n",
        "\n",
        "print(\"\\nMatriz de alcanzabilidad:\")\n",
        "matriz_alcanzabilidad = crear_matriz_alcanzabilidad(matriz_generada)\n",
        "print(matriz_alcanzabilidad)"
      ],
      "metadata": {
        "colab": {
          "base_uri": "https://localhost:8080/"
        },
        "id": "2z6s9mRObSsP",
        "outputId": "3cd073f4-98ed-48aa-c02a-6f49978f3e74"
      },
      "execution_count": null,
      "outputs": [
        {
          "output_type": "stream",
          "name": "stdout",
          "text": [
            "\n",
            "Matriz de alcanzabilidad:\n",
            "    v1  v2  v3  v4\n",
            "v1   1   1   1   1\n",
            "v2   1   1   1   1\n",
            "v3   1   1   1   1\n",
            "v4   1   1   1   1\n"
          ]
        }
      ]
    },
    {
      "cell_type": "code",
      "source": [
        "# 5. Crear matriz de distancias\n",
        "def crear_matriz_distancias(df_matriz_adyacencia):\n",
        "    \"\"\"\n",
        "    Crea la matriz de distancias usando el algoritmo de Floyd-Warshall\n",
        "    \"\"\"\n",
        "    n = len(df_matriz_adyacencia)\n",
        "    nodos = df_matriz_adyacencia.index.tolist()\n",
        "\n",
        "    # Inicializar matriz de distancias\n",
        "    distancias = np.full((n, n), np.inf)\n",
        "\n",
        "    # Distancia de un nodo a sí mismo es 0\n",
        "    for i in range(n):\n",
        "        distancias[i][i] = 0\n",
        "\n",
        "    # Si hay conexión directa, la distancia es 1\n",
        "    for i in range(n):\n",
        "        for j in range(n):\n",
        "            if df_matriz_adyacencia.iloc[i, j] == 1:\n",
        "                distancias[i][j] = 1\n",
        "\n",
        "    # Algoritmo de Floyd-Warshall para encontrar distancias mínimas\n",
        "    for k in range(n):\n",
        "        for i in range(n):\n",
        "            for j in range(n):\n",
        "                if distancias[i][k] + distancias[k][j] < distancias[i][j]:\n",
        "                    distancias[i][j] = distancias[i][k] + distancias[k][j]\n",
        "\n",
        "    # Convertir infinitos a -1 o un valor indicativo\n",
        "    distancias = np.where(distancias == np.inf, -1, distancias).astype(int)\n",
        "\n",
        "    # Crear DataFrame\n",
        "    df_distancias = pd.DataFrame(distancias, index=nodos, columns=nodos)\n",
        "    return df_distancias\n",
        "\n",
        "\n",
        "print(\"\\nMatriz de distancias:\")\n",
        "matriz_distancias = crear_matriz_distancias(matriz_generada)\n",
        "print(matriz_distancias)\n"
      ],
      "metadata": {
        "colab": {
          "base_uri": "https://localhost:8080/"
        },
        "id": "lPfcw-1xbmP2",
        "outputId": "f924b681-89de-44ae-af70-63dbd5ff597c"
      },
      "execution_count": null,
      "outputs": [
        {
          "output_type": "stream",
          "name": "stdout",
          "text": [
            "\n",
            "Matriz de distancias:\n",
            "    v1  v2  v3  v4\n",
            "v1   0   1   2   3\n",
            "v2   1   0   1   2\n",
            "v3   2   3   0   1\n",
            "v4   1   2   3   0\n"
          ]
        }
      ]
    },
    {
      "cell_type": "code",
      "source": [
        "def imprimir_matriz_especificaciones(conexiones):\n",
        "   \"\"\"\n",
        "   Imprime la matriz de especificaciones (recorridos) en formato de tabla\n",
        "   \"\"\"\n",
        "   # Crear DataFrame desde las conexiones\n",
        "   df_especificaciones = pd.DataFrame(conexiones, columns=['Origen', 'Destino', 'Conexion'])\n",
        "\n",
        "   print(\"\\nMatriz de Especificaciones (recorridos)\")\n",
        "   print(\"=\"*40)\n",
        "   print(df_especificaciones.to_string(index=False))\n",
        "   print(\"=\"*40)\n",
        "\n",
        "# Agregar en la sección de ejecución:\n",
        "imprimir_matriz_especificaciones(conexiones)"
      ],
      "metadata": {
        "id": "dxmJvWY7eG5_",
        "outputId": "14a6ce9e-015b-4598-910e-5ccc9f3783d4",
        "colab": {
          "base_uri": "https://localhost:8080/"
        }
      },
      "execution_count": null,
      "outputs": [
        {
          "output_type": "stream",
          "name": "stdout",
          "text": [
            "\n",
            "Matriz de Especificaciones (recorridos)\n",
            "========================================\n",
            "Origen Destino Conexion\n",
            "    v1      v2       a1\n",
            "    v2      v1       a2\n",
            "    v2      v3       a3\n",
            "    v3      v4       a4\n",
            "    v4      v1       a5\n",
            "========================================\n"
          ]
        }
      ]
    }
  ]
}